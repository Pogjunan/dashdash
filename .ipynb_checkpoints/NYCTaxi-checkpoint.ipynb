{
  "cells": [
    {
      "cell_type": "raw",
      "metadata": {},
      "source": [
        "---\n",
        "title: \"NYCTaxi\"\n",
        "author: \"전준한\"\n",
        "format: dashboard\n",
        "execute: \n",
        "  enabled: true\n",
        "  cache: false\n",
        "  freeze: false\n",
        "---"
      ],
      "id": "b6e295e4"
    },
    {
      "cell_type": "code",
      "metadata": {},
      "source": [
        "#| output: false\n",
        "# 여기에 온갖코드를 넣음.\n",
        "# 1-(1),(2),(3) 에 대응하는 plotly figure를 아래와 같은 이름으로 저장\n",
        "# fig1 = ...\n",
        "# fig2 = ...\n",
        "# fig3 = ...\n",
        "import numpy as np\n",
        "import pandas as pd\n",
        "import plotly.express as px\n",
        "import plotly.io as pio\n",
        "import json\n",
        "import requests\n",
        "import pickle\n",
        "pd.options.plotting.backend = \"plotly\"\n",
        "pio.templates.default = \"plotly_white\"\n",
        "df = pd.read_csv(\"https://raw.githubusercontent.com/guebin/DV2023/main/posts/NYCTaxi.csv\").assign(\n",
        "    log_trip_duration = lambda df: np.log(df.trip_duration),\n",
        "    pickup_datetime = lambda df: df.pickup_datetime.apply(pd.to_datetime),\n",
        "    dropoff_datetime = lambda df: df.dropoff_datetime.apply(pd.to_datetime),\n",
        "    dist = lambda df: np.sqrt((df.pickup_latitude-df.dropoff_latitude)**2 + (df.pickup_longitude-df.dropoff_longitude)**2),\n",
        "    #---#\n",
        "    vendor_id = lambda df: df.vendor_id.map({1:'A',2:'B'})\n",
        ").assign(\n",
        "    speed = lambda df: df.dist / df.trip_duration,\n",
        "    pickup_hour = lambda df: df.pickup_datetime.dt.hour,\n",
        "    dropoff_hour = lambda df: df.dropoff_datetime.dt.hour,\n",
        "    dayofweek = lambda df: df.pickup_datetime.dt.dayofweek\n",
        ")\n",
        "df_small = df[::100].reset_index(drop=True)\n",
        "_df = df.copy()\n",
        "week_dct = {0:'월',1:'화',2:'수',3:'목',4:'금',5:'토',6:'일'}\n",
        "\n",
        "df1 = _df.loc[:,['speed','pickup_hour','dayofweek']].groupby(['pickup_hour','dayofweek']).agg('mean')\\\n",
        ".reset_index().sort_values('dayofweek').reset_index(drop=True)\n",
        "df1.dayofweek = df1.dayofweek.map(week_dct)\n",
        "df1\n",
        "\n",
        "fig1 = px.density_heatmap(\n",
        "    data_frame=df1,\n",
        "    x='pickup_hour',\n",
        "    y='dayofweek',\n",
        "    z='speed',\n",
        "    nbinsx=24,\n",
        "    nbinsy=7,\n",
        "    height=300)\n",
        "    \n",
        "df2 = _df.loc[:,['dist','pickup_hour','dayofweek']].groupby(['pickup_hour','dayofweek']).agg('mean')\\\n",
        ".reset_index().sort_values('dayofweek').reset_index(drop=True)\n",
        "df2.dayofweek = df2.dayofweek.map(week_dct)\n",
        "df2\n",
        "fig2 = px.density_heatmap(\n",
        "    data_frame=df2,\n",
        "    x='pickup_hour',\n",
        "    y='dayofweek',\n",
        "    z='dist',\n",
        "    nbinsx=24,\n",
        "    nbinsy=7,\n",
        "    height=300)\n",
        "fig1['layout']['coloraxis']['colorbar']['title']['text'] = '평균속력'\n",
        "fig1['layout']['xaxis']['title']['text'] = 'pickup 시간'\n",
        "fig1['layout']['yaxis']['title']['text'] = '요일'\n",
        "fig2['layout']['coloraxis']['colorbar']['title']['text'] = '평균이동거리'\n",
        "fig2['layout']['xaxis']['title']['text'] = 'pickup 시간'\n",
        "fig2['layout']['yaxis']['title']['text'] = '요일'\n",
        "\n",
        "speed = pd.Series(df_small.speed)\n",
        "speedy =pd.qcut(speed,4,labels=['매우느림','조금느림','조금빠름','매우빠름'])\n",
        "df_small['speedy']=speedy\n",
        "pcol = ['pickup_datetime', 'pickup_longitude', 'pickup_latitude', 'pickup_hour']\n",
        "dcol = ['dropoff_datetime', 'dropoff_longitude', 'dropoff_latitude', 'dropoff_hour']\n",
        "def transform(df):\n",
        "    pickup = df.loc[:,['id']+pcol].set_axis(['id', 'datetime', 'longitude', 'latitude', 'hour'],axis=1).assign(type = 'pickup')\n",
        "    dropoff = df.loc[:,['id']+dcol].set_axis(['id', 'datetime', 'longitude', 'latitude', 'hour'],axis=1).assign(type = 'dropoff')\n",
        "    return pd.concat([pickup,dropoff],axis=0)\n",
        "df_left = df_small.drop(pcol+dcol,axis=1)\n",
        "df_right = pd.concat([transform(df) for i, df in df_small.groupby('id')]).reset_index(drop=True)\n",
        "df_small2 = df_left.merge(df_right).sort_values(['speedy'])\n",
        "fig3 = px.line_mapbox(\n",
        "    data_frame=df_small2,\n",
        "    lat='latitude',\n",
        "    lon='longitude',\n",
        "    color='speedy',\n",
        "    line_group='id',\n",
        "    center={'lat': 40.7322, 'lon': -74.0052},\n",
        "    mapbox_style='carto-positron',\n",
        "    zoom=11,\n",
        "    width=750,\n",
        "    height=600    \n",
        ")\n",
        "\n",
        "# 범례 이름을 설정하기 위해 선(경로)의 트레이스를 업데이트합니다.\n",
        "for trace in fig3.data:\n",
        "    trace.name = f'{trace.name} (path)'\n"
      ],
      "id": "bcba468b",
      "execution_count": null,
      "outputs": []
    },
    {
      "cell_type": "markdown",
      "metadata": {},
      "source": [
        "# 기말고사1-(1),(2)"
      ],
      "id": "67beea66"
    },
    {
      "cell_type": "code",
      "metadata": {
        "title": "요일,시간에 따른 평균속력 시각화"
      },
      "source": [
        "fig1.show()"
      ],
      "id": "e7d5dc83",
      "execution_count": null,
      "outputs": []
    },
    {
      "cell_type": "code",
      "metadata": {
        "title": "요일,시간에 따른 평균이동거리 시각화"
      },
      "source": [
        "fig2.show()"
      ],
      "id": "865b54b8",
      "execution_count": null,
      "outputs": []
    },
    {
      "cell_type": "markdown",
      "metadata": {},
      "source": [
        "# 기말고사1-(3)"
      ],
      "id": "52cc788e"
    },
    {
      "cell_type": "code",
      "metadata": {
        "title": "속력별 경로 시각화"
      },
      "source": [
        "scatter_data = px.scatter_mapbox(\n",
        "    data_frame=df_small2,\n",
        "    lat='latitude',\n",
        "    lon='longitude',\n",
        "    size='passenger_count',\n",
        "    size_max=10,\n",
        "    color='speedy',\n",
        "    mapbox_style='carto-positron',\n",
        "    zoom=11,\n",
        "    width=750,\n",
        "    height=600    \n",
        ")\n",
        "\n",
        "# Add scatter data to fig3 and update names\n",
        "for trace in scatter_data.data:\n",
        "    trace.name = f'{trace.name} (pickup/dropoff)'\n",
        "    fig3.add_trace(trace)\n",
        "\n",
        "# Update line traces, not scatter traces\n",
        "fig3.update_traces(\n",
        "    line={'width': 1},\n",
        "    opacity=0.8,\n",
        "    selector=dict(type='scattermapbox')\n",
        ")\n",
        "\n",
        "# Show fig3 without scrollZoom\n",
        "fig3.show()\n"
      ],
      "id": "efef37ed",
      "execution_count": null,
      "outputs": []
    }
  ],
  "metadata": {
    "kernelspec": {
      "name": "python3",
      "language": "python",
      "display_name": "Python 3 (ipykernel)"
    }
  },
  "nbformat": 4,
  "nbformat_minor": 5
}